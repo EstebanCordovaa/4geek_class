{
 "cells": [
  {
   "cell_type": "code",
   "execution_count": 14,
   "metadata": {},
   "outputs": [],
   "source": [
    "import numpy as np\n",
    "import matplotlib.pyplot as plt\n",
    "import pandas as pd\n",
    "import random\n",
    "from scipy.stats import binom "
   ]
  },
  {
   "cell_type": "code",
   "execution_count": 2,
   "metadata": {},
   "outputs": [
    {
     "data": {
      "text/plain": [
       "['rojo',\n",
       " 'rojo',\n",
       " 'rojo',\n",
       " 'rojo',\n",
       " 'rojo',\n",
       " 'rojo',\n",
       " 'rojo',\n",
       " 'rojo',\n",
       " 'rojo',\n",
       " 'rojo',\n",
       " 'rojo',\n",
       " 'rojo',\n",
       " 'rojo',\n",
       " 'rojo',\n",
       " 'rojo',\n",
       " 'rojo',\n",
       " 'rojo',\n",
       " 'rojo',\n",
       " 'negro',\n",
       " 'negro',\n",
       " 'negro',\n",
       " 'negro',\n",
       " 'negro',\n",
       " 'negro',\n",
       " 'negro',\n",
       " 'negro',\n",
       " 'negro',\n",
       " 'negro',\n",
       " 'negro',\n",
       " 'negro',\n",
       " 'negro',\n",
       " 'negro',\n",
       " 'negro',\n",
       " 'negro',\n",
       " 'negro',\n",
       " 'negro',\n",
       " 'verde',\n",
       " 'verde']"
      ]
     },
     "execution_count": 2,
     "metadata": {},
     "output_type": "execute_result"
    }
   ],
   "source": [
    "# Hay una ruleta en un casino. La ruleta tiene 18 espacios rojos, 18 espacios negros y 2 espacios verdes.\n",
    "# Al girar la ruleta si sale rojo el apostador gana 1usd caso contrario el apostador pierde 1usd.\n",
    "# Desde la vista del casino si sale rojo el casino pierde 1usd y caso contrario el casino gana 1usd.\n",
    "ruleta = [\"rojo\"]*18 + [\"negro\"]*18 + [\"verde\"]*2\n",
    "ruleta\n",
    "\n",
    "# Simular 1000 extracciones \n",
    "# Cuanto gana o pierde el casino\n",
    "# Si sale negro y verde el casino gana 1usd, si sale rojo pierde 1usd"
   ]
  },
  {
   "cell_type": "code",
   "execution_count": 3,
   "metadata": {},
   "outputs": [
    {
     "data": {
      "text/plain": [
       "-34"
      ]
     },
     "execution_count": 3,
     "metadata": {},
     "output_type": "execute_result"
    }
   ],
   "source": [
    "dinero_casino = 0\n",
    "for _ in range(1000): # Simulamos los 1000 giros de la ruleta\n",
    "    giros = random.choice(ruleta)\n",
    "    \n",
    "    if giros == \"rojo\":\n",
    "        dinero_casino -= 1  # El apostador gana 1usd, el casino pierde 1usd\n",
    "    else:\n",
    "        dinero_casino += 1  # El apostador pierde 1usd, el casino gana 1usd\n",
    "\n",
    "\n",
    "dinero_casino"
   ]
  },
  {
   "cell_type": "code",
   "execution_count": 4,
   "metadata": {},
   "outputs": [],
   "source": [
    "def roullete_spin(spins=1000, roullete=ruleta):\n",
    "    earnings = 0\n",
    "    for _ in range(spins):\n",
    "        result = random.choice(roullete)\n",
    "        if result == \"rojo\":\n",
    "            earnings -= 1\n",
    "        else:\n",
    "            earnings += 1\n",
    "    return earnings    \n",
    "\n",
    "    "
   ]
  },
  {
   "cell_type": "code",
   "execution_count": 5,
   "metadata": {},
   "outputs": [
    {
     "data": {
      "text/plain": [
       "22"
      ]
     },
     "execution_count": 5,
     "metadata": {},
     "output_type": "execute_result"
    }
   ],
   "source": [
    "roullete_spin()"
   ]
  },
  {
   "cell_type": "code",
   "execution_count": 9,
   "metadata": {},
   "outputs": [],
   "source": [
    "# Sampling model \n",
    "samplings = []\n",
    "for _ in range(10000):\n",
    "    samplings.append(roullete_spin()) #Lista donde se almacenan los resultados"
   ]
  },
  {
   "cell_type": "code",
   "execution_count": 18,
   "metadata": {},
   "outputs": [
    {
     "data": {
      "image/png": "[encoded data removed]",
      "text/plain": [
       "<Figure size 640x480 with 1 Axes>"
      ]
     },
     "metadata": {},
     "output_type": "display_data"
    }
   ],
   "source": [
    "# Plot frecuencies histograms\n",
    "plt.hist(samplings, bins=20)\n",
    "plt.grid(True)\n",
    "plt.show()"
   ]
  },
  {
   "cell_type": "code",
   "execution_count": 10,
   "metadata": {},
   "outputs": [
    {
     "data": {
      "text/plain": [
       "np.float64(31.25356238191096)"
      ]
     },
     "execution_count": 10,
     "metadata": {},
     "output_type": "execute_result"
    }
   ],
   "source": [
    "# Standard error \n",
    "std = np.std(samplings)\n",
    "std"
   ]
  },
  {
   "cell_type": "code",
   "execution_count": 11,
   "metadata": {},
   "outputs": [
    {
     "data": {
      "text/plain": [
       "10000"
      ]
     },
     "execution_count": 11,
     "metadata": {},
     "output_type": "execute_result"
    }
   ],
   "source": [
    "n = len(samplings)\n",
    "n"
   ]
  },
  {
   "cell_type": "code",
   "execution_count": 12,
   "metadata": {},
   "outputs": [
    {
     "data": {
      "text/plain": [
       "np.float64(0.3125356238191096)"
      ]
     },
     "execution_count": 12,
     "metadata": {},
     "output_type": "execute_result"
    }
   ],
   "source": [
    "# Stadandard error formula\n",
    "std/np.sqrt(n)"
   ]
  },
  {
   "cell_type": "code",
   "execution_count": null,
   "metadata": {},
   "outputs": [],
   "source": [
    "# Bernoulli distribution: Es una distribucion de probabilidad discreta de una variable aleatoria que toma el valor de \"1\" con probabilidad \"p\" y el valor \"0\" con probabilidad \"1 - p\". \n",
    "# Un ejemplo basico es el lanzamiento de una moneda donde \"p\" es 0.5 para cara(1) y 0.5 para sello(0). E[X] = 0.5, VAR[X] = 0.25 \n",
    "# El segundo ejemplo es obtener 5 o 6 en un lanzamiento de dado, donde acertar(1) tiene probabilidad 1/6 + 1/6 = 2/6. Y la probabilidad de fallar(0) es 4/6. E[X] = 1/3, VAR[X] = 2/6 * 4/6 = 2/9\n",
    "# El valor esperado E[X] es \"p\" y la varianza VAR[X] es igual a \"p*(1-p)\""
   ]
  },
  {
   "cell_type": "code",
   "execution_count": null,
   "metadata": {},
   "outputs": [],
   "source": [
    "# Binomial distribution: Es una distribucion de probabilidad discreta del numero de exitos en una secuencia de \"n\" experimentos independientes Bernoulli, donde el exito tiene probabilidad \"p\" y el fracaso 1-p\n",
    "# Probabilidad de sacar 3 caras en un lanzamiento de 4 monedas, cada lanzamiento de moneda es un evento Bernoulli independiente de los otros lanzamientos.\n",
    "# Binomial distribution formula:"
   ]
  },
  {
   "cell_type": "markdown",
   "metadata": {},
   "source": [
    "$ P(X=k) = {n\\choose k} p^k*(1-p)^{n-k} $"
   ]
  },
  {
   "cell_type": "markdown",
   "metadata": {},
   "source": [
    "$ {n\\choose k} = n!/(k! * n-k!) $\n",
    "$ n! = n * (n-1)*(n-2)... * 1 $"
   ]
  },
  {
   "cell_type": "code",
   "execution_count": null,
   "metadata": {},
   "outputs": [],
   "source": [
    "# El valor esperado de la distribucion binomial E[X] = n*p y la varianza es VAR[X] = n*p * (1-p)"
   ]
  },
  {
   "cell_type": "code",
   "execution_count": 18,
   "metadata": {},
   "outputs": [
    {
     "data": {
      "image/png": "[encoded data removed]",
      "text/plain": [
       "<Figure size 640x480 with 1 Axes>"
      ]
     },
     "metadata": {},
     "output_type": "display_data"
    }
   ],
   "source": [
    "# Exisate un evento \"n\" que es la probabilidad de sacar 3 caras en un lanzamiento de 4 monedas \n",
    "n, p = 4, 0.5\n",
    "rv = binom(n, p)\n",
    "fig, ax = plt.subplots(1, 1)\n",
    "x = np.arange(binom.ppf(0.01, n, p), binom.ppf(0.99, n, p))\n",
    "ax.plot(x, binom.pmf(x, n, p), \"bo\", ms=8, label=\"funcion de probabilidad masa\")\n",
    "ax.vlines(x, 0, binom.pmf(x, n, p), colors = \"b\", lw = 5, alpha = 0.5)\n",
    "plt.show()"
   ]
  },
  {
   "cell_type": "code",
   "execution_count": null,
   "metadata": {},
   "outputs": [],
   "source": [
    "# Poisson distribution: Es una distribucion de probabilidad discreta que expresa la probabilidad de que un numero dado de eventos ocurra en un intervalo fijo de tiempo a una tasa media constante(lambda)\n",
    "# La formula es la siguiente:"
   ]
  },
  {
   "cell_type": "markdown",
   "metadata": {},
   "source": [
    "$$ P(X=k) =\\frac{ \\lambda^k * e^{-\\lambda} } {k!} $$"
   ]
  },
  {
   "cell_type": "code",
   "execution_count": null,
   "metadata": {},
   "outputs": [],
   "source": [
    "# El valor esperado de E[X] es igual a lambda y la varianza VAR[X] es igual a lambda"
   ]
  },
  {
   "cell_type": "code",
   "execution_count": null,
   "metadata": {},
   "outputs": [],
   "source": [
    "# Normal distribution: Es una distribucion de probabilidad continua para una variable aleatoria en el espacio continuo y esta representada por su media \"mu\" y su desviacion estandar \"sigma\"\n",
    "# La formula es la siguiente:"
   ]
  },
  {
   "cell_type": "markdown",
   "metadata": {},
   "source": [
    "$$ P(X = \\mu\\sigma) = \\frac{1}{\\sqrt{2\\pi\\sigma^2}} * e^{\\frac{-(x-\\mu)^2}{2\\sigma^2}} $$"
   ]
  },
  {
   "cell_type": "code",
   "execution_count": null,
   "metadata": {},
   "outputs": [],
   "source": [
    "# El valor esperado E[X] es \"mu\" y la varianza VAR[X] es \"sigma\" al cuadrado"
   ]
  }
 ],
 "metadata": {
  "kernelspec": {
   "display_name": "Python 3",
   "language": "python",
   "name": "python3"
  },
  "language_info": {
   "codemirror_mode": {
    "name": "ipython",
    "version": 3
   },
   "file_extension": ".py",
   "mimetype": "text/x-python",
   "name": "python",
   "nbconvert_exporter": "python",
   "pygments_lexer": "ipython3",
   "version": "3.12.1"
  }
 },
 "nbformat": 4,
 "nbformat_minor": 2
}
