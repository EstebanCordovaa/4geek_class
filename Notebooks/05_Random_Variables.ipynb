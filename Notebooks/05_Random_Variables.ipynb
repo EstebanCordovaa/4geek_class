{
 "cells": [
  {
   "cell_type": "code",
   "execution_count": 1,
   "metadata": {},
   "outputs": [],
   "source": [
    "import numpy as np\n",
    "import matplotlib.pyplot as plt\n",
    "import pandas as pd\n",
    "import random"
   ]
  },
  {
   "cell_type": "code",
   "execution_count": 2,
   "metadata": {},
   "outputs": [
    {
     "data": {
      "text/plain": [
       "['rojo',\n",
       " 'rojo',\n",
       " 'rojo',\n",
       " 'rojo',\n",
       " 'rojo',\n",
       " 'rojo',\n",
       " 'rojo',\n",
       " 'rojo',\n",
       " 'rojo',\n",
       " 'rojo',\n",
       " 'rojo',\n",
       " 'rojo',\n",
       " 'rojo',\n",
       " 'rojo',\n",
       " 'rojo',\n",
       " 'rojo',\n",
       " 'rojo',\n",
       " 'rojo',\n",
       " 'negro',\n",
       " 'negro',\n",
       " 'negro',\n",
       " 'negro',\n",
       " 'negro',\n",
       " 'negro',\n",
       " 'negro',\n",
       " 'negro',\n",
       " 'negro',\n",
       " 'negro',\n",
       " 'negro',\n",
       " 'negro',\n",
       " 'negro',\n",
       " 'negro',\n",
       " 'negro',\n",
       " 'negro',\n",
       " 'negro',\n",
       " 'negro',\n",
       " 'verde',\n",
       " 'verde']"
      ]
     },
     "execution_count": 2,
     "metadata": {},
     "output_type": "execute_result"
    }
   ],
   "source": [
    "# Hay una ruleta en un casino. La ruleta tiene 18 espacios rojos, 18 espacios negros y 2 espacios verdes.\n",
    "# Al girar la ruleta si sale rojo el apostador gana 1usd caso contrario el apostador pierde 1usd.\n",
    "# Desde la vista del casino si sale rojo el casino pierde 1usd y caso contrario el casino gana 1usd.\n",
    "ruleta = [\"rojo\"]*18 + [\"negro\"]*18 + [\"verde\"]*2\n",
    "ruleta\n",
    "\n",
    "# Simular 1000 extracciones \n",
    "# Cuanto gana o pierde el casino\n",
    "# Si sale negro y verde el casino gana 1usd, si sale rojo pierde 1usd"
   ]
  },
  {
   "cell_type": "code",
   "execution_count": 3,
   "metadata": {},
   "outputs": [
    {
     "data": {
      "text/plain": [
       "-34"
      ]
     },
     "execution_count": 3,
     "metadata": {},
     "output_type": "execute_result"
    }
   ],
   "source": [
    "dinero_casino = 0\n",
    "for _ in range(1000): # Simulamos los 1000 giros de la ruleta\n",
    "    giros = random.choice(ruleta)\n",
    "    \n",
    "    if giros == \"rojo\":\n",
    "        dinero_casino -= 1  # El apostador gana 1usd, el casino pierde 1usd\n",
    "    else:\n",
    "        dinero_casino += 1  # El apostador pierde 1usd, el casino gana 1usd\n",
    "\n",
    "\n",
    "dinero_casino"
   ]
  },
  {
   "cell_type": "code",
   "execution_count": 4,
   "metadata": {},
   "outputs": [],
   "source": [
    "def roullete_spin(spins=1000, roullete=ruleta):\n",
    "    earnings = 0\n",
    "    for _ in range(spins):\n",
    "        result = random.choice(roullete)\n",
    "        if result == \"rojo\":\n",
    "            earnings -= 1\n",
    "        else:\n",
    "            earnings += 1\n",
    "    return earnings    \n",
    "\n",
    "    "
   ]
  },
  {
   "cell_type": "code",
   "execution_count": 5,
   "metadata": {},
   "outputs": [
    {
     "data": {
      "text/plain": [
       "22"
      ]
     },
     "execution_count": 5,
     "metadata": {},
     "output_type": "execute_result"
    }
   ],
   "source": [
    "roullete_spin()"
   ]
  },
  {
   "cell_type": "code",
   "execution_count": 9,
   "metadata": {},
   "outputs": [],
   "source": [
    "# Sampling model \n",
    "samplings = []\n",
    "for _ in range(10000):\n",
    "    samplings.append(roullete_spin()) #Lista donde se almacenan los resultados"
   ]
  },
  {
   "cell_type": "code",
   "execution_count": 18,
   "metadata": {},
   "outputs": [
    {
     "data": {
      "image/png": "[encoded data removed]",
      "text/plain": [
       "<Figure size 640x480 with 1 Axes>"
      ]
     },
     "metadata": {},
     "output_type": "display_data"
    }
   ],
   "source": [
    "# Plot frecuencies histograms\n",
    "plt.hist(samplings, bins=20)\n",
    "plt.grid(True)\n",
    "plt.show()"
   ]
  },
  {
   "cell_type": "code",
   "execution_count": 10,
   "metadata": {},
   "outputs": [
    {
     "data": {
      "text/plain": [
       "np.float64(31.25356238191096)"
      ]
     },
     "execution_count": 10,
     "metadata": {},
     "output_type": "execute_result"
    }
   ],
   "source": [
    "# Standard error \n",
    "std = np.std(samplings)\n",
    "std"
   ]
  },
  {
   "cell_type": "code",
   "execution_count": 11,
   "metadata": {},
   "outputs": [
    {
     "data": {
      "text/plain": [
       "10000"
      ]
     },
     "execution_count": 11,
     "metadata": {},
     "output_type": "execute_result"
    }
   ],
   "source": [
    "n = len(samplings)\n",
    "n"
   ]
  },
  {
   "cell_type": "code",
   "execution_count": 12,
   "metadata": {},
   "outputs": [
    {
     "data": {
      "text/plain": [
       "np.float64(0.3125356238191096)"
      ]
     },
     "execution_count": 12,
     "metadata": {},
     "output_type": "execute_result"
    }
   ],
   "source": [
    "# Stadandard error formula\n",
    "std/np.sqrt(n)"
   ]
  }
 ],
 "metadata": {
  "kernelspec": {
   "display_name": "Python 3",
   "language": "python",
   "name": "python3"
  },
  "language_info": {
   "codemirror_mode": {
    "name": "ipython",
    "version": 3
   },
   "file_extension": ".py",
   "mimetype": "text/x-python",
   "name": "python",
   "nbconvert_exporter": "python",
   "pygments_lexer": "ipython3",
   "version": "3.12.1"
  }
 },
 "nbformat": 4,
 "nbformat_minor": 2
}
