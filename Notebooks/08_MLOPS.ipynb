{
 "cells": [
  {
   "cell_type": "markdown",
   "metadata": {},
   "source": [
    "# Lesson 8: MLOPS (Machine Learning Operations)\n"
   ]
  },
  {
   "cell_type": "code",
   "execution_count": null,
   "metadata": {},
   "outputs": [],
   "source": [
    "# El shell de un OS (sistema operativo), reconoce dos entidades el archivo y el directorio. Estos pueden ser visibles u ocultos.\n",
    "# Los comandos en shell suelen tener el componente del nombre (comando) y las opciones que se denotan con un gion simple \"-\" por ejemplo\n",
    "# -p o -a, o un guion doble \"--\"\n",
    "# Comando cat abre y muestra un archivo de texto\n",
    "# Comando echo imprime en terminal\n",
    "# Comando tail nos muestra las ultimas lineas de texto\n",
    "# Comando head nos muestra las primeras lineas de texto\n",
    "# Comando touch nos crea un archivo nuevo \n",
    "# Comando mkdir nos crea un directorio nuevo\n",
    "# Comando \">\" nos ayuda a volcar un contenido (en el lado izquierdo) hacia un archivo (en el lado derecho) echo \"This is an operation\" > my_file.txt. Si\n",
    "# el archivo hacia donde estamos volcando no existe lo crea al momento.\n",
    "# Comando \">>\" nos ayuda a añadir un contenido (en el lado izquiero) hacia un archivo (en el lado derecho) echo \"This is a new operation\" >> my_file.txt.\n",
    "# Si el archivo hacia donde estamos volcando/añadiendo no existe lo crea al momento.\n",
    "# Comando mkdir -p my_drawings/svg crea un directorio\n",
    "# Comando mkdir -p my_docs/{word, excel, powerpoint} crea un directorio y en este caso crea 3 subdirectorios.\n",
    "# Comando tree nos muestra la estructura de nuestros directorios.\n",
    "# Comando cp hace una copia del archivo y comando mv lo mueve a la nueva direccion. cp my_modules.txt my_directory/my_modules.txt\n",
    "# Comando cd nos lleva a otro directorio. Recordemos que . significa donde estoy en este momento y \"..\" significa un nivel arriba\n",
    "# Comando \"ln -s\" crea un enlace simbolico o \"alias\" que hace referencia a un archivo \n",
    "# Comando \"rm\" permite borrar directorios y los archivos. En caso un directorio contenga mas directorios o archivos debemos utilizar comandos recursivos\n",
    "# que se invoca con \"-r\" y si queremos forzar el borrado sin preguntar usamos \"-f\". Debemos estar seguros de querer forzar el borrado ya que no es \n",
    "# reversible.\n",
    "# Comando \"grep\" permite capturar patrones de texto en un archivo.\n",
    "# Comando \"find\" permite encontrar o buscar archivos y directorios.\n",
    "\n",
    "\n"
   ]
  }
 ],
 "metadata": {
  "kernelspec": {
   "display_name": ".venv",
   "language": "python",
   "name": "python3"
  },
  "language_info": {
   "name": "python",
   "version": "3.12.1"
  }
 },
 "nbformat": 4,
 "nbformat_minor": 2
}
